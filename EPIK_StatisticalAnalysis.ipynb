{
 "cells": [
  {
   "cell_type": "code",
   "execution_count": 1,
   "metadata": {
    "collapsed": true,
    "ExecuteTime": {
     "end_time": "2024-07-31T17:06:27.882638Z",
     "start_time": "2024-07-31T17:06:27.877006Z"
    }
   },
   "outputs": [],
   "source": [
    "import numpy as np\n",
    "import matplotlib.pyplot as plt\n",
    "from scipy import stats\n",
    "import math as m\n",
    "import pandas as pd"
   ]
  },
  {
   "cell_type": "code",
   "execution_count": 41,
   "outputs": [
    {
     "name": "stdout",
     "output_type": "stream",
     "text": [
      "Cohens d: 0.500\n"
     ]
    }
   ],
   "source": [
    "# function to calculate Cohen's d for independent samples\n",
    "def cohend(d1, d2):\n",
    "    # calculate the size of samples\n",
    "    n1, n2 = len(d1), len(d2)\n",
    "\n",
    "    # calculate the variance of the samples\n",
    "    s1, s2 = np.var(d1, ddof=1), np.var(d2, ddof=1)\n",
    "\n",
    "    # calculate the pooled standard deviation\n",
    "    s = np.sqrt(((n1 - 1) * s1 + (n2 - 1) * s2) / (n1 + n2 - 2))\n",
    "\n",
    "    # calculate the means of the samples\n",
    "    u1, u2 = np.mean(d1), np.mean(d2)\n",
    "\n",
    "    # calculate the effect size\n",
    "    return (u1 - u2) / s\n",
    "\n",
    "\n",
    "# # seed random number generator\n",
    "# from numpy.random import seed\n",
    "# from numpy.random import randn\n",
    "# seed(1)\n",
    "# # prepare data\n",
    "# data1 = 10 * randn(10000) + 60\n",
    "# data2 = 10 * randn(10000) + 55\n",
    "# # calculate cohen's d\n",
    "# d = cohend(data1, data2)\n",
    "# print('Cohens d: %.3f' % d)"
   ],
   "metadata": {
    "collapsed": false,
    "ExecuteTime": {
     "end_time": "2024-07-31T17:28:36.848193Z",
     "start_time": "2024-07-31T17:28:36.841886Z"
    }
   }
  },
  {
   "cell_type": "code",
   "execution_count": 20,
   "outputs": [],
   "source": [
    "\n",
    "FPR_filenames = [\n",
    "    \"data/FPR_R1R2_p3/FPR_R1R2_p3_Epsilon.csv\", \"data/FPR_R1R2_p3/FPR_R1R2_p3_HV.csv\", \"data/FPR_R1R2_p3/FPR_R1R2_p3_IGD.csv\",\n",
    "    \"data/FPR_R1R2_p2p3/FPR_R1R2_p2p3_Epsilon.csv\", \"data/FPR_R1R2_p2p3/FPR_R1R2_p2p3_HV.csv\", \"data/FPR_R1R2_p2p3/FPR_R1R2_p2p3_IGD.csv\",\n",
    "    \"data/FPR_R1R2_p1p2p3/FPR_R1R2_p1p2p3_Epsilon.csv\", \"data/FPR_R1R2_p1p2p3/FPR_R1R2_p1p2p3_HV.csv\", \"data/FPR_R1R2_p1p2p3/FPR_R1R2_p1p2p3_IGD.csv\"\n",
    "]\n"
   ],
   "metadata": {
    "collapsed": false,
    "ExecuteTime": {
     "end_time": "2024-07-31T17:12:12.977789Z",
     "start_time": "2024-07-31T17:12:12.974877Z"
    }
   }
  },
  {
   "cell_type": "code",
   "execution_count": 25,
   "outputs": [
    {
     "name": "stdout",
     "output_type": "stream",
     "text": [
      "KruskalResult(statistic=58.438778998779014, pvalue=2.0425861172532406e-13)\n",
      "KruskalResult(statistic=58.14427350427354, pvalue=2.3666358088636074e-13)\n",
      "KruskalResult(statistic=58.75174603174605, pvalue=1.7467085581476688e-13)\n",
      "KruskalResult(statistic=44.140463980464006, pvalue=2.600279501192823e-10)\n",
      "KruskalResult(statistic=43.71028083028085, pvalue=3.224282725457752e-10)\n",
      "KruskalResult(statistic=49.6704273504273, pvalue=1.637584594114501e-11)\n",
      "KruskalResult(statistic=50.96976800976802, pvalue=8.55176001134337e-12)\n",
      "KruskalResult(statistic=59.22666666666669, pvalue=1.3775036001620005e-13)\n",
      "KruskalResult(statistic=16.985299145299166, pvalue=0.0002049694585414388)\n"
     ]
    }
   ],
   "source": [
    "FPR_Results = []\n",
    "for filename in FPR_filenames:\n",
    "    df = pd.read_csv(filename, delimiter='\\t')\n",
    "\n",
    "    test_result = stats.kruskal(df.iloc[:,1], df.iloc[:,2], df.iloc[:,3])\n",
    "\n",
    "\n",
    "    print (test_result)\n",
    "    FPR_Results.append(test_result)"
   ],
   "metadata": {
    "collapsed": false,
    "ExecuteTime": {
     "end_time": "2024-07-31T17:14:49.753092Z",
     "start_time": "2024-07-31T17:14:49.741808Z"
    }
   }
  },
  {
   "cell_type": "code",
   "execution_count": 38,
   "outputs": [
    {
     "name": "stdout",
     "output_type": "stream",
     "text": [
      "MannwhitneyuResult(statistic=364.0, pvalue=0.20620548705301323) \n",
      " MannwhitneyuResult(statistic=2.0, pvalue=3.6897258539809896e-11) \n",
      " MannwhitneyuResult(statistic=11.0, pvalue=8.993406027014868e-11) \n",
      "\n",
      "MannwhitneyuResult(statistic=506.0, pvalue=0.4119108371475996) \n",
      " MannwhitneyuResult(statistic=900.0, pvalue=3.019859359162157e-11) \n",
      " MannwhitneyuResult(statistic=888.0, pvalue=9.918628618948002e-11) \n",
      "\n",
      "MannwhitneyuResult(statistic=369.0, pvalue=0.2339889162810581) \n",
      " MannwhitneyuResult(statistic=0.0, pvalue=3.019859359162157e-11) \n",
      " MannwhitneyuResult(statistic=10.0, pvalue=8.152744512218774e-11) \n",
      "\n",
      "MannwhitneyuResult(statistic=468.0, pvalue=0.795845542466455) \n",
      " MannwhitneyuResult(statistic=60.0, pvalue=8.48477290014798e-09) \n",
      " MannwhitneyuResult(statistic=64.0, pvalue=1.2023264598302062e-08) \n",
      "\n",
      "MannwhitneyuResult(statistic=513.0, pvalue=0.3554724725943107) \n",
      " MannwhitneyuResult(statistic=825.0, pvalue=3.0810543518021204e-08) \n",
      " MannwhitneyuResult(statistic=845.0, pvalue=5.4617466566169245e-09) \n",
      "\n",
      "MannwhitneyuResult(statistic=408.0, pvalue=0.5395103167994048) \n",
      " MannwhitneyuResult(statistic=27.0, pvalue=4.1996766179584087e-10) \n",
      " MannwhitneyuResult(statistic=52.0, pvalue=4.18250049245679e-09) \n",
      "\n",
      "MannwhitneyuResult(statistic=558.0, pvalue=0.11198687208268976) \n",
      " MannwhitneyuResult(statistic=48.0, pvalue=2.9215452138416713e-09) \n",
      " MannwhitneyuResult(statistic=29.0, pvalue=5.072313498155901e-10) \n",
      "\n",
      "MannwhitneyuResult(statistic=464.0, pvalue=0.8418014501581275) \n",
      " MannwhitneyuResult(statistic=899.0, pvalue=3.3383888204288e-11) \n",
      " MannwhitneyuResult(statistic=900.0, pvalue=3.019859359162157e-11) \n",
      "\n",
      "MannwhitneyuResult(statistic=363.0, pvalue=0.20094889697592833) \n",
      " MannwhitneyuResult(statistic=191.0, pvalue=0.0001324951052218608) \n",
      " MannwhitneyuResult(statistic=246.0, pvalue=0.0026242800643638355) \n",
      "\n"
     ]
    }
   ],
   "source": [
    "for filename in FPR_filenames:\n",
    "    df = pd.read_csv(filename, delimiter='\\t')\n",
    "\n",
    "    # test_result = stats.kruskal(df.iloc[:,1], df.iloc[:,2], df.iloc[:,3])\n",
    "    comp12 = stats.mannwhitneyu(x=df.iloc[:,1], y=df.iloc[:,2], alternative='two-sided')\n",
    "    comp13 = stats.mannwhitneyu(x=df.iloc[:,1], y=df.iloc[:,3], alternative='two-sided')\n",
    "    comp23 = stats.mannwhitneyu(x=df.iloc[:,2], y=df.iloc[:,3], alternative='two-sided')\n",
    "\n",
    "    print (comp12,\"\\n\", comp13, \"\\n\", comp23, \"\\n\")\n"
   ],
   "metadata": {
    "collapsed": false,
    "ExecuteTime": {
     "end_time": "2024-07-31T17:20:32.166714Z",
     "start_time": "2024-07-31T17:20:32.118373Z"
    }
   }
  },
  {
   "cell_type": "code",
   "execution_count": 45,
   "outputs": [
    {
     "name": "stdout",
     "output_type": "stream",
     "text": [
      "-0.35544527620997474 \n",
      " -1.4256919174371079 \n",
      " -1.399975424608248 \n",
      "\n",
      "0.31507906966782123 \n",
      " 1.3791532663593098 \n",
      " 1.3534289411578977 \n",
      "\n",
      "-0.33214477333492176 \n",
      " -1.3172529867371638 \n",
      " -1.296417000739587 \n",
      "\n",
      "-0.08920491164822646 \n",
      " -1.6208578080239262 \n",
      " -1.5389760235058094 \n",
      "\n",
      "-0.13240193439323222 \n",
      " 1.2454261810668752 \n",
      " 1.2757113620424345 \n",
      "\n",
      "-0.23448377356159436 \n",
      " -1.682333483159343 \n",
      " -1.5645293265777325 \n",
      "\n",
      "0.42189339831129213 \n",
      " -1.0190378090380552 \n",
      " -1.0426766093128932 \n",
      "\n",
      "-0.03341132257410311 \n",
      " 0.9829686526868198 \n",
      " 0.9844235330386916 \n",
      "\n",
      "-0.40677658399951044 \n",
      " -0.928109865939132 \n",
      " -0.7973410100710095 \n",
      "\n"
     ]
    }
   ],
   "source": [
    "for filename in FPR_filenames:\n",
    "    df = pd.read_csv(filename, delimiter='\\t')\n",
    "\n",
    "    cohen12 = cohend(d1=df.iloc[:,1], d2=df.iloc[:,2])\n",
    "    cohen13 = cohend(d1=df.iloc[:,1], d2=df.iloc[:,3])\n",
    "    cohen23 = cohend(d1=df.iloc[:,2], d2=df.iloc[:,3])\n",
    "\n",
    "    print (cohen12,\"\\n\", cohen13,\"\\n\", cohen23, \"\\n\")\n"
   ],
   "metadata": {
    "collapsed": false,
    "ExecuteTime": {
     "end_time": "2024-07-31T17:33:46.120878Z",
     "start_time": "2024-07-31T17:33:46.099216Z"
    }
   }
  },
  {
   "cell_type": "code",
   "execution_count": 41,
   "outputs": [],
   "source": [],
   "metadata": {
    "collapsed": false,
    "ExecuteTime": {
     "end_time": "2024-07-31T17:28:54.887604Z",
     "start_time": "2024-07-31T17:28:54.883154Z"
    }
   }
  },
  {
   "cell_type": "markdown",
   "source": [
    "----"
   ],
   "metadata": {
    "collapsed": false
   }
  },
  {
   "cell_type": "code",
   "execution_count": 26,
   "outputs": [],
   "source": [
    "\n",
    "FX_filenames = [\n",
    "    \"data/FX_R1R2_p5_100000/FX_R1R2_p5_100000_Epsilon.csv\", \"data/FX_R1R2_p5_100000/FX_R1R2_p5_100000_HV.csv\", \"data/FX_R1R2_p5_100000/FX_R1R2_p5_100000_IGD.csv\",\n",
    "    \"data/FX_R1R2_p4p5_100000/FX_R1R2_p4p5_100000_Epsilon.csv\", \"data/FX_R1R2_p4p5_100000/FX_R1R2_p4p5_100000_HV.csv\", \"data/FX_R1R2_p4p5_100000/FX_R1R2_p4p5_100000_IGD.csv\",\n",
    "    \"data/FX_R1R2_p2p4p5_100000/FX_R1R2_p2p4p5_100000_Epsilon.csv\", \"data/FX_R1R2_p2p4p5_100000/FX_R1R2_p2p4p5_100000_HV.csv\", \"data/FX_R1R2_p2p4p5_100000/FX_R1R2_p2p4p5_100000_IGD.csv\"\n",
    "]\n"
   ],
   "metadata": {
    "collapsed": false,
    "ExecuteTime": {
     "end_time": "2024-07-31T17:14:53.570948Z",
     "start_time": "2024-07-31T17:14:53.566940Z"
    }
   }
  },
  {
   "cell_type": "code",
   "execution_count": 27,
   "outputs": [
    {
     "name": "stdout",
     "output_type": "stream",
     "text": [
      "KruskalResult(statistic=56.38183150183153, pvalue=5.712692524699613e-13)\n",
      "KruskalResult(statistic=56.215677655677666, pvalue=6.207556753467728e-13)\n",
      "KruskalResult(statistic=56.57328449328446, pvalue=5.191195213485008e-13)\n",
      "KruskalResult(statistic=58.55892551892555, pvalue=1.9234942415297392e-13)\n",
      "KruskalResult(statistic=59.86647130647134, pvalue=1.0003706243511626e-13)\n",
      "KruskalResult(statistic=57.61592185592184, pvalue=3.082205095628349e-13)\n",
      "KruskalResult(statistic=59.4649084249084, pvalue=1.2228106205946333e-13)\n",
      "KruskalResult(statistic=59.269841269841265, pvalue=1.3480856836410314e-13)\n",
      "KruskalResult(statistic=59.52068376068371, pvalue=1.1891803979107367e-13)\n"
     ]
    }
   ],
   "source": [
    "FX_Results =[]\n",
    "for filename in FX_filenames:\n",
    "    df = pd.read_csv(filename, delimiter='\\t')\n",
    "\n",
    "    test_result = stats.kruskal(df.iloc[:,1], df.iloc[:,2], df.iloc[:,3])\n",
    "\n",
    "    print (test_result)\n",
    "    FX_Results.append(test_result)"
   ],
   "metadata": {
    "collapsed": false,
    "ExecuteTime": {
     "end_time": "2024-07-31T17:15:10.663058Z",
     "start_time": "2024-07-31T17:15:10.632780Z"
    }
   }
  },
  {
   "cell_type": "code",
   "execution_count": 39,
   "outputs": [
    {
     "name": "stdout",
     "output_type": "stream",
     "text": [
      "MannwhitneyuResult(statistic=574.0, pvalue=0.06786886081944325) \n",
      " MannwhitneyuResult(statistic=31.0, pvalue=6.121039395876217e-10) \n",
      " MannwhitneyuResult(statistic=6.0, pvalue=5.494052450965186e-11) \n",
      "\n",
      "MannwhitneyuResult(statistic=326.0, pvalue=0.06786886081944325) \n",
      " MannwhitneyuResult(statistic=870.0, pvalue=5.572653248454238e-10) \n",
      " MannwhitneyuResult(statistic=892.0, pvalue=6.69551896550012e-11) \n",
      "\n",
      "MannwhitneyuResult(statistic=581.0, pvalue=0.05368525328679823) \n",
      " MannwhitneyuResult(statistic=31.0, pvalue=6.121039395876217e-10) \n",
      " MannwhitneyuResult(statistic=6.0, pvalue=5.494052450965186e-11) \n",
      "\n",
      "MannwhitneyuResult(statistic=305.0, pvalue=0.03265093917842125) \n",
      " MannwhitneyuResult(statistic=6.0, pvalue=5.494052450965186e-11) \n",
      " MannwhitneyuResult(statistic=17.0, pvalue=1.6132250444697864e-10) \n",
      "\n",
      "MannwhitneyuResult(statistic=565.0, pvalue=0.090490360906144) \n",
      " MannwhitneyuResult(statistic=898.0, pvalue=3.6897258539809896e-11) \n",
      " MannwhitneyuResult(statistic=896.0, pvalue=4.504322112705282e-11) \n",
      "\n",
      "MannwhitneyuResult(statistic=375.0, pvalue=0.2707053377245183) \n",
      " MannwhitneyuResult(statistic=4.0, pvalue=4.504322112705282e-11) \n",
      " MannwhitneyuResult(statistic=14.0, pvalue=1.2056679006359843e-10) \n",
      "\n",
      "MannwhitneyuResult(statistic=386.0, pvalue=0.3478277829758114) \n",
      " MannwhitneyuResult(statistic=2.0, pvalue=3.6897258539809896e-11) \n",
      " MannwhitneyuResult(statistic=0.0, pvalue=3.019859359162157e-11) \n",
      "\n",
      "MannwhitneyuResult(statistic=528.0, pvalue=0.2518808246619123) \n",
      " MannwhitneyuResult(statistic=897.0, pvalue=4.0771648468253186e-11) \n",
      " MannwhitneyuResult(statistic=898.0, pvalue=3.6897258539809896e-11) \n",
      "\n",
      "MannwhitneyuResult(statistic=393.0, pvalue=0.40353753915408586) \n",
      " MannwhitneyuResult(statistic=1.0, pvalue=3.3383888204288e-11) \n",
      " MannwhitneyuResult(statistic=0.0, pvalue=3.019859359162157e-11) \n",
      "\n"
     ]
    }
   ],
   "source": [
    "for filename in FX_filenames:\n",
    "    df = pd.read_csv(filename, delimiter='\\t')\n",
    "\n",
    "    # test_result = stats.kruskal(df.iloc[:,1], df.iloc[:,2], df.iloc[:,3])\n",
    "    comp12 = stats.mannwhitneyu(x=df.iloc[:,1], y=df.iloc[:,2], alternative='two-sided')\n",
    "    comp13 = stats.mannwhitneyu(x=df.iloc[:,1], y=df.iloc[:,3], alternative='two-sided')\n",
    "    comp23 = stats.mannwhitneyu(x=df.iloc[:,2], y=df.iloc[:,3], alternative='two-sided')\n",
    "\n",
    "    print (comp12,\"\\n\", comp13, \"\\n\", comp23, \"\\n\")\n"
   ],
   "metadata": {
    "collapsed": false,
    "ExecuteTime": {
     "end_time": "2024-07-31T17:21:46.186991Z",
     "start_time": "2024-07-31T17:21:46.142200Z"
    }
   }
  },
  {
   "cell_type": "code",
   "execution_count": 46,
   "outputs": [
    {
     "name": "stdout",
     "output_type": "stream",
     "text": [
      "0.5330958189859546 \n",
      " -2.0335776185759635 \n",
      " -2.269539141801349 \n",
      "\n",
      "-0.5729785380629209 \n",
      " 2.24531367390252 \n",
      " 2.550800172759561 \n",
      "\n",
      "0.5640008457866356 \n",
      " -2.074308396831376 \n",
      " -2.312031642965816 \n",
      "\n",
      "-0.5132678098833012 \n",
      " -2.4853404544817024 \n",
      " -2.327774937401549 \n",
      "\n",
      "0.3565691135989184 \n",
      " 2.62775839648161 \n",
      " 2.5244695463084685 \n",
      "\n",
      "-0.4633215222440479 \n",
      " -2.4711620936242173 \n",
      " -2.3386341750513733 \n",
      "\n",
      "-0.07714299859903571 \n",
      " -2.5683499304380297 \n",
      " -2.5636757377685617 \n",
      "\n",
      "0.10461670238216515 \n",
      " 3.1087487991669693 \n",
      " 3.139329112740469 \n",
      "\n",
      "-0.08648210074758685 \n",
      " -2.5679671604265994 \n",
      " -2.559425739825111 \n",
      "\n"
     ]
    }
   ],
   "source": [
    "for filename in FX_filenames:\n",
    "    df = pd.read_csv(filename, delimiter='\\t')\n",
    "\n",
    "    cohen12 = cohend(d1=df.iloc[:,1], d2=df.iloc[:,2])\n",
    "    cohen13 = cohend(d1=df.iloc[:,1], d2=df.iloc[:,3])\n",
    "    cohen23 = cohend(d1=df.iloc[:,2], d2=df.iloc[:,3])\n",
    "\n",
    "    print (cohen12,\"\\n\", cohen13,\"\\n\", cohen23, \"\\n\")\n"
   ],
   "metadata": {
    "collapsed": false,
    "ExecuteTime": {
     "end_time": "2024-07-31T17:34:38.182296Z",
     "start_time": "2024-07-31T17:34:38.163691Z"
    }
   }
  },
  {
   "cell_type": "markdown",
   "source": [
    "## Conformance Statistical Analysis"
   ],
   "metadata": {
    "collapsed": false
   }
  },
  {
   "cell_type": "code",
   "execution_count": 110,
   "outputs": [
    {
     "data": {
      "text/plain": "<Figure size 640x480 with 1 Axes>",
      "image/png": "[encoded data removed]"
     },
     "metadata": {},
     "output_type": "display_data"
    }
   ],
   "source": [
    "DATA_DIR = 'data'\n",
    "CONFORMANCE_OPTIONS = [0, 1, 2, 3]\n",
    "conformance_files = ['FPR_Conformance_' + str(i) + '_BestSolutions.csv' for i in CONFORMANCE_OPTIONS]\n",
    "conformanceLabels = ['Conformance', 'Low Conflict', 'Medium Conflict', 'High Conflict']\n",
    "colHeaders = [conformanceLabels[i] for i in CONFORMANCE_OPTIONS]\n",
    "\n",
    "\n",
    "\n",
    "from EPIK_visualisation import do_conformance_boxplots\n",
    "do_conformance_boxplots(data_dir=DATA_DIR, conformance_files=conformance_files, colHeaders=colHeaders)"
   ],
   "metadata": {
    "collapsed": false,
    "ExecuteTime": {
     "end_time": "2024-08-02T18:40:06.551703Z",
     "start_time": "2024-08-02T18:40:06.399756Z"
    }
   }
  },
  {
   "cell_type": "code",
   "execution_count": 111,
   "outputs": [
    {
     "data": {
      "text/plain": "   Conformance Low Conflict Medium Conflict High Conflict\n0     0.254518     0.330333        1.114345      1.863003\n1     0.250113     0.334542         1.10908       1.86062\n2     0.253369     0.333105        1.108972      1.860481\n3     0.263050     0.332528        1.110944      1.868765\n4     0.251471      0.33082        1.112661      1.864062",
      "text/html": "<div>\n<style scoped>\n    .dataframe tbody tr th:only-of-type {\n        vertical-align: middle;\n    }\n\n    .dataframe tbody tr th {\n        vertical-align: top;\n    }\n\n    .dataframe thead th {\n        text-align: right;\n    }\n</style>\n<table border=\"1\" class=\"dataframe\">\n  <thead>\n    <tr style=\"text-align: right;\">\n      <th></th>\n      <th>Conformance</th>\n      <th>Low Conflict</th>\n      <th>Medium Conflict</th>\n      <th>High Conflict</th>\n    </tr>\n  </thead>\n  <tbody>\n    <tr>\n      <th>0</th>\n      <td>0.254518</td>\n      <td>0.330333</td>\n      <td>1.114345</td>\n      <td>1.863003</td>\n    </tr>\n    <tr>\n      <th>1</th>\n      <td>0.250113</td>\n      <td>0.334542</td>\n      <td>1.10908</td>\n      <td>1.86062</td>\n    </tr>\n    <tr>\n      <th>2</th>\n      <td>0.253369</td>\n      <td>0.333105</td>\n      <td>1.108972</td>\n      <td>1.860481</td>\n    </tr>\n    <tr>\n      <th>3</th>\n      <td>0.263050</td>\n      <td>0.332528</td>\n      <td>1.110944</td>\n      <td>1.868765</td>\n    </tr>\n    <tr>\n      <th>4</th>\n      <td>0.251471</td>\n      <td>0.33082</td>\n      <td>1.112661</td>\n      <td>1.864062</td>\n    </tr>\n  </tbody>\n</table>\n</div>"
     },
     "execution_count": 111,
     "metadata": {},
     "output_type": "execute_result"
    }
   ],
   "source": [
    "from EPIK_visualisation import prepare_conformance_data\n",
    "dfData = prepare_conformance_data(DATA_DIR, conformance_files, colHeaders)\n",
    "\n",
    "dfData.head()"
   ],
   "metadata": {
    "collapsed": false,
    "ExecuteTime": {
     "end_time": "2024-08-02T18:40:07.368888Z",
     "start_time": "2024-08-02T18:40:07.357357Z"
    }
   }
  },
  {
   "cell_type": "code",
   "execution_count": 112,
   "outputs": [
    {
     "data": {
      "text/plain": "KruskalResult(statistic=111.57024793388427, pvalue=5.0394632691027984e-24)"
     },
     "execution_count": 112,
     "metadata": {},
     "output_type": "execute_result"
    }
   ],
   "source": [
    "#Apply Kruskal Wallis\n",
    "stats.kruskal(dfData.iloc[:,0], dfData.iloc[:,1], dfData.iloc[:,2], dfData.iloc[:,3])\n"
   ],
   "metadata": {
    "collapsed": false,
    "ExecuteTime": {
     "end_time": "2024-08-02T18:40:08.008249Z",
     "start_time": "2024-08-02T18:40:08.002652Z"
    }
   }
  },
  {
   "cell_type": "code",
   "execution_count": 113,
   "outputs": [
    {
     "name": "stdout",
     "output_type": "stream",
     "text": [
      "MannwhitneyuResult(statistic=0.0, pvalue=3.019859359162157e-11) \n",
      " MannwhitneyuResult(statistic=0.0, pvalue=3.019859359162157e-11) \n",
      " MannwhitneyuResult(statistic=0.0, pvalue=3.019859359162157e-11) \n",
      " MannwhitneyuResult(statistic=0.0, pvalue=3.019859359162157e-11) \n",
      " MannwhitneyuResult(statistic=0.0, pvalue=3.019859359162157e-11) \n",
      " MannwhitneyuResult(statistic=0.0, pvalue=3.019859359162157e-11)\n"
     ]
    }
   ],
   "source": [
    "comp01 = stats.mannwhitneyu(x=dfData.iloc[:,0].tolist(), y=dfData.iloc[:,1].tolist(), alternative='two-sided')\n",
    "comp02 = stats.mannwhitneyu(x=dfData.iloc[:,0].tolist(), y=dfData.iloc[:,2].tolist(), alternative='two-sided')\n",
    "comp03 = stats.mannwhitneyu(x=dfData.iloc[:,0].tolist(), y=dfData.iloc[:,3].tolist(), alternative='two-sided')\n",
    "comp12 = stats.mannwhitneyu(x=dfData.iloc[:,1].tolist(), y=dfData.iloc[:,2].tolist(), alternative='two-sided')\n",
    "comp13 = stats.mannwhitneyu(x=dfData.iloc[:,1].tolist(), y=dfData.iloc[:,3].tolist(), alternative='two-sided')\n",
    "comp23 = stats.mannwhitneyu(x=dfData.iloc[:,2].tolist(), y=dfData.iloc[:,3].tolist(), alternative='two-sided')\n",
    "\n",
    "print(comp01,\"\\n\", comp02,\"\\n\", comp03,\"\\n\", comp12,\"\\n\", comp13,\"\\n\", comp23)\n"
   ],
   "metadata": {
    "collapsed": false,
    "ExecuteTime": {
     "end_time": "2024-08-02T18:40:08.838740Z",
     "start_time": "2024-08-02T18:40:08.827817Z"
    }
   }
  },
  {
   "cell_type": "code",
   "execution_count": 114,
   "outputs": [
    {
     "name": "stdout",
     "output_type": "stream",
     "text": [
      "-22.288049094711557 \n",
      " -140.1707728326573 \n",
      " -206.90998008859597 \n",
      " -119.83236834261385 \n",
      " -79.46408036921974 \n",
      " -79.46408036921974\n"
     ]
    }
   ],
   "source": [
    "cohen01 = cohend(d1=dfData.iloc[:,0].tolist(), d2=dfData.iloc[:,1].tolist())\n",
    "cohen02 = cohend(d1=dfData.iloc[:,0].tolist(), d2=dfData.iloc[:,2].tolist())\n",
    "cohen03 = cohend(d1=dfData.iloc[:,0].tolist(), d2=dfData.iloc[:,3].tolist())\n",
    "cohen12 = cohend(d1=dfData.iloc[:,1].tolist(), d2=dfData.iloc[:,2].tolist())\n",
    "cohen13 = cohend(d1=dfData.iloc[:,2].tolist(), d2=dfData.iloc[:,3].tolist())\n",
    "cohen23 = cohend(d1=dfData.iloc[:,2].tolist(), d2=dfData.iloc[:,3].tolist())\n",
    "\n",
    "print(cohen01,\"\\n\", cohen02,\"\\n\", cohen03,\"\\n\", cohen12,\"\\n\", cohen13,\"\\n\", cohen23)\n"
   ],
   "metadata": {
    "collapsed": false,
    "ExecuteTime": {
     "end_time": "2024-08-02T18:40:11.312686Z",
     "start_time": "2024-08-02T18:40:11.303166Z"
    }
   }
  },
  {
   "cell_type": "code",
   "execution_count": 116,
   "outputs": [
    {
     "data": {
      "text/plain": "    Unnamed: 0     NSGAII      SPEA2       CMAES\n0            0   1.913533   4.114123  196.529545\n1            1  15.736061   9.183028  141.879656\n2            2  11.554552   1.587873  310.513935\n3            3   4.396361   3.473497  155.537186\n4            4  38.355876  11.776322  258.871440\n5            5   2.674065  17.686020  120.695848\n6            6   2.120849   2.752843   67.797000\n7            7   4.355901  13.286570  272.004573\n8            8   2.267084  23.593981   37.801852\n9            9   3.945229  16.229226   40.645323\n10          10   4.011836   3.935526  255.509086\n11          11   7.546258  19.707348  136.450696\n12          12   3.437350   6.864003  152.312333\n13          13   3.793308   8.738493   94.923230\n14          14  10.057548  17.666875  280.263907\n15          15   3.467256  14.300563  196.807338\n16          16   2.503254  18.599150   65.839960\n17          17   1.326662  28.124274  119.230438\n18          18  13.100501   7.411035   62.537941\n19          19  36.068077   3.902244  202.480051\n20          20  12.300034   8.302666  113.396330\n21          21  14.468629  35.827701  356.545249\n22          22  17.717871   5.556113  190.787065\n23          23  28.691677   3.582908  141.716718\n24          24  15.642535  11.608164   89.956615\n25          25  13.782649   3.454014  121.442791\n26          26   4.445942   7.239483  206.810429\n27          27   7.792409   3.869873   82.165746\n28          28   4.777755   4.285653  192.637846\n29          29  14.127878  13.134686  268.020918",
      "text/html": "<div>\n<style scoped>\n    .dataframe tbody tr th:only-of-type {\n        vertical-align: middle;\n    }\n\n    .dataframe tbody tr th {\n        vertical-align: top;\n    }\n\n    .dataframe thead th {\n        text-align: right;\n    }\n</style>\n<table border=\"1\" class=\"dataframe\">\n  <thead>\n    <tr style=\"text-align: right;\">\n      <th></th>\n      <th>Unnamed: 0</th>\n      <th>NSGAII</th>\n      <th>SPEA2</th>\n      <th>CMAES</th>\n    </tr>\n  </thead>\n  <tbody>\n    <tr>\n      <th>0</th>\n      <td>0</td>\n      <td>1.913533</td>\n      <td>4.114123</td>\n      <td>196.529545</td>\n    </tr>\n    <tr>\n      <th>1</th>\n      <td>1</td>\n      <td>15.736061</td>\n      <td>9.183028</td>\n      <td>141.879656</td>\n    </tr>\n    <tr>\n      <th>2</th>\n      <td>2</td>\n      <td>11.554552</td>\n      <td>1.587873</td>\n      <td>310.513935</td>\n    </tr>\n    <tr>\n      <th>3</th>\n      <td>3</td>\n      <td>4.396361</td>\n      <td>3.473497</td>\n      <td>155.537186</td>\n    </tr>\n    <tr>\n      <th>4</th>\n      <td>4</td>\n      <td>38.355876</td>\n      <td>11.776322</td>\n      <td>258.871440</td>\n    </tr>\n    <tr>\n      <th>5</th>\n      <td>5</td>\n      <td>2.674065</td>\n      <td>17.686020</td>\n      <td>120.695848</td>\n    </tr>\n    <tr>\n      <th>6</th>\n      <td>6</td>\n      <td>2.120849</td>\n      <td>2.752843</td>\n      <td>67.797000</td>\n    </tr>\n    <tr>\n      <th>7</th>\n      <td>7</td>\n      <td>4.355901</td>\n      <td>13.286570</td>\n      <td>272.004573</td>\n    </tr>\n    <tr>\n      <th>8</th>\n      <td>8</td>\n      <td>2.267084</td>\n      <td>23.593981</td>\n      <td>37.801852</td>\n    </tr>\n    <tr>\n      <th>9</th>\n      <td>9</td>\n      <td>3.945229</td>\n      <td>16.229226</td>\n      <td>40.645323</td>\n    </tr>\n    <tr>\n      <th>10</th>\n      <td>10</td>\n      <td>4.011836</td>\n      <td>3.935526</td>\n      <td>255.509086</td>\n    </tr>\n    <tr>\n      <th>11</th>\n      <td>11</td>\n      <td>7.546258</td>\n      <td>19.707348</td>\n      <td>136.450696</td>\n    </tr>\n    <tr>\n      <th>12</th>\n      <td>12</td>\n      <td>3.437350</td>\n      <td>6.864003</td>\n      <td>152.312333</td>\n    </tr>\n    <tr>\n      <th>13</th>\n      <td>13</td>\n      <td>3.793308</td>\n      <td>8.738493</td>\n      <td>94.923230</td>\n    </tr>\n    <tr>\n      <th>14</th>\n      <td>14</td>\n      <td>10.057548</td>\n      <td>17.666875</td>\n      <td>280.263907</td>\n    </tr>\n    <tr>\n      <th>15</th>\n      <td>15</td>\n      <td>3.467256</td>\n      <td>14.300563</td>\n      <td>196.807338</td>\n    </tr>\n    <tr>\n      <th>16</th>\n      <td>16</td>\n      <td>2.503254</td>\n      <td>18.599150</td>\n      <td>65.839960</td>\n    </tr>\n    <tr>\n      <th>17</th>\n      <td>17</td>\n      <td>1.326662</td>\n      <td>28.124274</td>\n      <td>119.230438</td>\n    </tr>\n    <tr>\n      <th>18</th>\n      <td>18</td>\n      <td>13.100501</td>\n      <td>7.411035</td>\n      <td>62.537941</td>\n    </tr>\n    <tr>\n      <th>19</th>\n      <td>19</td>\n      <td>36.068077</td>\n      <td>3.902244</td>\n      <td>202.480051</td>\n    </tr>\n    <tr>\n      <th>20</th>\n      <td>20</td>\n      <td>12.300034</td>\n      <td>8.302666</td>\n      <td>113.396330</td>\n    </tr>\n    <tr>\n      <th>21</th>\n      <td>21</td>\n      <td>14.468629</td>\n      <td>35.827701</td>\n      <td>356.545249</td>\n    </tr>\n    <tr>\n      <th>22</th>\n      <td>22</td>\n      <td>17.717871</td>\n      <td>5.556113</td>\n      <td>190.787065</td>\n    </tr>\n    <tr>\n      <th>23</th>\n      <td>23</td>\n      <td>28.691677</td>\n      <td>3.582908</td>\n      <td>141.716718</td>\n    </tr>\n    <tr>\n      <th>24</th>\n      <td>24</td>\n      <td>15.642535</td>\n      <td>11.608164</td>\n      <td>89.956615</td>\n    </tr>\n    <tr>\n      <th>25</th>\n      <td>25</td>\n      <td>13.782649</td>\n      <td>3.454014</td>\n      <td>121.442791</td>\n    </tr>\n    <tr>\n      <th>26</th>\n      <td>26</td>\n      <td>4.445942</td>\n      <td>7.239483</td>\n      <td>206.810429</td>\n    </tr>\n    <tr>\n      <th>27</th>\n      <td>27</td>\n      <td>7.792409</td>\n      <td>3.869873</td>\n      <td>82.165746</td>\n    </tr>\n    <tr>\n      <th>28</th>\n      <td>28</td>\n      <td>4.777755</td>\n      <td>4.285653</td>\n      <td>192.637846</td>\n    </tr>\n    <tr>\n      <th>29</th>\n      <td>29</td>\n      <td>14.127878</td>\n      <td>13.134686</td>\n      <td>268.020918</td>\n    </tr>\n  </tbody>\n</table>\n</div>"
     },
     "execution_count": 116,
     "metadata": {},
     "output_type": "execute_result"
    }
   ],
   "source": [
    "df"
   ],
   "metadata": {
    "collapsed": false,
    "ExecuteTime": {
     "end_time": "2024-08-02T18:40:17.794736Z",
     "start_time": "2024-08-02T18:40:17.791381Z"
    }
   }
  },
  {
   "cell_type": "code",
   "execution_count": 121,
   "outputs": [
    {
     "data": {
      "text/plain": "Conformance        0.000009\nLow Conflict       0.000018\nMedium Conflict    0.000067\nHigh Conflict      0.000113\ndtype: object"
     },
     "execution_count": 121,
     "metadata": {},
     "output_type": "execute_result"
    }
   ],
   "source": [
    "dfData.var()"
   ],
   "metadata": {
    "collapsed": false,
    "ExecuteTime": {
     "end_time": "2024-08-02T18:41:13.049545Z",
     "start_time": "2024-08-02T18:41:13.025344Z"
    }
   }
  },
  {
   "cell_type": "code",
   "execution_count": 122,
   "outputs": [
    {
     "data": {
      "text/plain": "Conformance        0.250253\nLow Conflict       0.332147\nMedium Conflict    1.111526\nHigh Conflict      1.863868\ndtype: object"
     },
     "execution_count": 122,
     "metadata": {},
     "output_type": "execute_result"
    }
   ],
   "source": [
    "dfData.median()"
   ],
   "metadata": {
    "collapsed": false,
    "ExecuteTime": {
     "end_time": "2024-08-02T18:41:15.833639Z",
     "start_time": "2024-08-02T18:41:15.819296Z"
    }
   }
  },
  {
   "cell_type": "code",
   "execution_count": null,
   "outputs": [],
   "source": [],
   "metadata": {
    "collapsed": false
   }
  }
 ],
 "metadata": {
  "kernelspec": {
   "display_name": "Python 3",
   "language": "python",
   "name": "python3"
  },
  "language_info": {
   "codemirror_mode": {
    "name": "ipython",
    "version": 2
   },
   "file_extension": ".py",
   "mimetype": "text/x-python",
   "name": "python",
   "nbconvert_exporter": "python",
   "pygments_lexer": "ipython2",
   "version": "2.7.6"
  }
 },
 "nbformat": 4,
 "nbformat_minor": 0
}
