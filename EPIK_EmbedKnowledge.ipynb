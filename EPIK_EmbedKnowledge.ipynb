{
 "cells": [
  {
   "cell_type": "markdown",
   "source": [],
   "metadata": {
    "collapsed": false
   }
  },
  {
   "cell_type": "code",
   "execution_count": 19,
   "metadata": {
    "collapsed": true,
    "ExecuteTime": {
     "end_time": "2024-08-02T11:19:25.427281Z",
     "start_time": "2024-08-02T11:19:25.424896Z"
    }
   },
   "outputs": [],
   "source": [
    "# from EPIK_Utils import embed_knowledge_b\n",
    "import ReqsPRESTO\n",
    "import pandas as pd\n",
    "import numpy as np"
   ]
  },
  {
   "cell_type": "code",
   "execution_count": 20,
   "outputs": [],
   "source": [
    "data_dir = \"data/FPR_R1R2_p3/ParetoFrontSet\"\n",
    "filenames = [\n",
    "                \"ParetoFrontSetNSGAII-11b.csv\",\n",
    "                \"ParetoFrontSetSPEA2-12.csv\",\n",
    "                # \"ParetoFrontSetNSGAII-20.csv\"\n",
    "]\n",
    "\n",
    "dfData = []\n",
    "\n"
   ],
   "metadata": {
    "collapsed": false,
    "ExecuteTime": {
     "end_time": "2024-08-02T11:19:25.813642Z",
     "start_time": "2024-08-02T11:19:25.811317Z"
    }
   }
  },
  {
   "cell_type": "code",
   "execution_count": 21,
   "outputs": [],
   "source": [
    "from EPIK_Utils import load_solutions_all\n",
    "\n",
    "def embed_knowledge_b (data_dir, filename, property_eval_func, n=10 ** 6):\n",
    "    #load Pareto front solutions\n",
    "    df = load_solutions_all(data_dir, filename)\n",
    "    df = df.loc[:19, :]\n",
    "\n",
    "    #find column names of variables\n",
    "    variables = [c for c in df.columns.tolist() if \"v\" in c]\n",
    "\n",
    "    df_elusive_props_moments = pd.DataFrame(columns=['EP1_median', 'EP1_mean', 'EP1_std'])\n",
    "    df_elusive_props_results = pd.DataFrame(columns=[])\n",
    "\n",
    "\n",
    "    for i in df.index:\n",
    "        variable_values = df.loc [i, variables]\n",
    "\n",
    "        list_a = [variable_values[i] for i in range(len(variables)) if i % 2 == 0]\n",
    "        list_b = [variable_values[i] for i in range(len(variables)) if i % 2 == 1]\n",
    "\n",
    "        #sample\n",
    "        list_samples = [np.random.beta(list_a[i], list_b[i], size=n) for i in range(len(list_a))]\n",
    "\n",
    "        # Sample for the property of interest given the generated values\n",
    "        sampled_Y = property_eval_func(list_samples)\n",
    "\n",
    "        moments_i = [np.median(sampled_Y), np.mean(sampled_Y), np.std(sampled_Y)]\n",
    "\n",
    "        #append to dfs\n",
    "        df_elusive_props_moments.loc[i] = moments_i\n",
    "        df_elusive_props_results[\"ID\"+str(i)] = sampled_Y\n",
    "        print(i)\n",
    "\n",
    "    print(df_elusive_props_moments)\n",
    "    return  df_elusive_props_results"
   ],
   "metadata": {
    "collapsed": false,
    "ExecuteTime": {
     "end_time": "2024-08-02T11:19:26.382179Z",
     "start_time": "2024-08-02T11:19:26.377852Z"
    }
   }
  },
  {
   "cell_type": "code",
   "execution_count": 22,
   "outputs": [
    {
     "name": "stdout",
     "output_type": "stream",
     "text": [
      "0\n",
      "1\n",
      "2\n",
      "3\n",
      "   EP1_median  EP1_mean   EP1_std\n",
      "0    2.824163  2.805603  0.107253\n",
      "1    2.834956  2.818329  0.096562\n",
      "2    2.753214  2.744487  0.099974\n",
      "3    2.753373  2.744451  0.100080\n"
     ]
    }
   ],
   "source": [
    "dfResults = embed_knowledge_b(data_dir, filenames[0], ReqsPRESTO.property_R3_unknown_p3)"
   ],
   "metadata": {
    "collapsed": false,
    "ExecuteTime": {
     "end_time": "2024-08-02T11:19:28.191539Z",
     "start_time": "2024-08-02T11:19:27.916562Z"
    }
   }
  },
  {
   "cell_type": "code",
   "execution_count": 23,
   "outputs": [
    {
     "data": {
      "text/plain": "             ID0       ID1       ID2       ID3\n0       2.900245  2.691163  2.770735  2.727453\n1       2.906969  2.838100  2.690262  2.633010\n2       2.862072  2.876261  2.646974  2.749578\n3       2.839345  2.897518  2.794822  2.706675\n4       2.790627  2.794860  2.694422  2.711883\n...          ...       ...       ...       ...\n999995  2.841139  2.858245  2.649905  2.714574\n999996  2.793493  2.928591  2.766838  2.778810\n999997  2.914891  2.907754  2.740690  2.753088\n999998  2.739957  2.908229  2.768189  2.888552\n999999  2.727620  2.824166  2.581837  2.589381\n\n[1000000 rows x 4 columns]",
      "text/html": "<div>\n<style scoped>\n    .dataframe tbody tr th:only-of-type {\n        vertical-align: middle;\n    }\n\n    .dataframe tbody tr th {\n        vertical-align: top;\n    }\n\n    .dataframe thead th {\n        text-align: right;\n    }\n</style>\n<table border=\"1\" class=\"dataframe\">\n  <thead>\n    <tr style=\"text-align: right;\">\n      <th></th>\n      <th>ID0</th>\n      <th>ID1</th>\n      <th>ID2</th>\n      <th>ID3</th>\n    </tr>\n  </thead>\n  <tbody>\n    <tr>\n      <th>0</th>\n      <td>2.900245</td>\n      <td>2.691163</td>\n      <td>2.770735</td>\n      <td>2.727453</td>\n    </tr>\n    <tr>\n      <th>1</th>\n      <td>2.906969</td>\n      <td>2.838100</td>\n      <td>2.690262</td>\n      <td>2.633010</td>\n    </tr>\n    <tr>\n      <th>2</th>\n      <td>2.862072</td>\n      <td>2.876261</td>\n      <td>2.646974</td>\n      <td>2.749578</td>\n    </tr>\n    <tr>\n      <th>3</th>\n      <td>2.839345</td>\n      <td>2.897518</td>\n      <td>2.794822</td>\n      <td>2.706675</td>\n    </tr>\n    <tr>\n      <th>4</th>\n      <td>2.790627</td>\n      <td>2.794860</td>\n      <td>2.694422</td>\n      <td>2.711883</td>\n    </tr>\n    <tr>\n      <th>...</th>\n      <td>...</td>\n      <td>...</td>\n      <td>...</td>\n      <td>...</td>\n    </tr>\n    <tr>\n      <th>999995</th>\n      <td>2.841139</td>\n      <td>2.858245</td>\n      <td>2.649905</td>\n      <td>2.714574</td>\n    </tr>\n    <tr>\n      <th>999996</th>\n      <td>2.793493</td>\n      <td>2.928591</td>\n      <td>2.766838</td>\n      <td>2.778810</td>\n    </tr>\n    <tr>\n      <th>999997</th>\n      <td>2.914891</td>\n      <td>2.907754</td>\n      <td>2.740690</td>\n      <td>2.753088</td>\n    </tr>\n    <tr>\n      <th>999998</th>\n      <td>2.739957</td>\n      <td>2.908229</td>\n      <td>2.768189</td>\n      <td>2.888552</td>\n    </tr>\n    <tr>\n      <th>999999</th>\n      <td>2.727620</td>\n      <td>2.824166</td>\n      <td>2.581837</td>\n      <td>2.589381</td>\n    </tr>\n  </tbody>\n</table>\n<p>1000000 rows × 4 columns</p>\n</div>"
     },
     "execution_count": 23,
     "metadata": {},
     "output_type": "execute_result"
    }
   ],
   "source": [
    "dfResults"
   ],
   "metadata": {
    "collapsed": false,
    "ExecuteTime": {
     "end_time": "2024-08-02T11:19:30.650690Z",
     "start_time": "2024-08-02T11:19:30.641589Z"
    }
   }
  },
  {
   "cell_type": "code",
   "execution_count": 24,
   "outputs": [
    {
     "data": {
      "text/plain": "           ID0       ID1       ID2       ID3\n0.05  2.601334  2.634592  2.565860  2.565481\n0.50  2.824163  2.834956  2.753214  2.753373\n0.95  2.945880  2.944902  2.893038  2.893289",
      "text/html": "<div>\n<style scoped>\n    .dataframe tbody tr th:only-of-type {\n        vertical-align: middle;\n    }\n\n    .dataframe tbody tr th {\n        vertical-align: top;\n    }\n\n    .dataframe thead th {\n        text-align: right;\n    }\n</style>\n<table border=\"1\" class=\"dataframe\">\n  <thead>\n    <tr style=\"text-align: right;\">\n      <th></th>\n      <th>ID0</th>\n      <th>ID1</th>\n      <th>ID2</th>\n      <th>ID3</th>\n    </tr>\n  </thead>\n  <tbody>\n    <tr>\n      <th>0.05</th>\n      <td>2.601334</td>\n      <td>2.634592</td>\n      <td>2.565860</td>\n      <td>2.565481</td>\n    </tr>\n    <tr>\n      <th>0.50</th>\n      <td>2.824163</td>\n      <td>2.834956</td>\n      <td>2.753214</td>\n      <td>2.753373</td>\n    </tr>\n    <tr>\n      <th>0.95</th>\n      <td>2.945880</td>\n      <td>2.944902</td>\n      <td>2.893038</td>\n      <td>2.893289</td>\n    </tr>\n  </tbody>\n</table>\n</div>"
     },
     "execution_count": 24,
     "metadata": {},
     "output_type": "execute_result"
    }
   ],
   "source": [
    "dfResults.quantile([0.05, 0.5, 0.95])"
   ],
   "metadata": {
    "collapsed": false,
    "ExecuteTime": {
     "end_time": "2024-08-02T11:19:48.677243Z",
     "start_time": "2024-08-02T11:19:48.573430Z"
    }
   }
  },
  {
   "cell_type": "code",
   "execution_count": null,
   "outputs": [],
   "source": [],
   "metadata": {
    "collapsed": false
   }
  },
  {
   "cell_type": "code",
   "execution_count": null,
   "outputs": [],
   "source": [
    "np.quantile(a=dfResults[\"ID0\"], q=[0.05, 0.5, 0.95])"
   ],
   "metadata": {
    "collapsed": false
   }
  },
  {
   "cell_type": "code",
   "execution_count": 16,
   "outputs": [
    {
     "data": {
      "text/plain": "<matplotlib.collections.LineCollection at 0x2c383ed90>"
     },
     "execution_count": 16,
     "metadata": {},
     "output_type": "execute_result"
    },
    {
     "data": {
      "text/plain": "<Figure size 640x480 with 1 Axes>",
      "image/png": "[encoded data removed]"
     },
     "metadata": {},
     "output_type": "display_data"
    }
   ],
   "source": [
    "\n",
    "\n",
    "\n",
    "np.quantile(a=sampled_Y, q=[0.05, 0.5, 0.95]"
   ],
   "metadata": {
    "collapsed": false,
    "ExecuteTime": {
     "end_time": "2024-08-02T08:31:03.070561Z",
     "start_time": "2024-08-02T08:31:02.959155Z"
    }
   }
  },
  {
   "cell_type": "markdown",
   "source": [
    "α' = α + κ\n",
    "\n",
    "λ' = λα' / (α + λκx')\n",
    "\n",
    "λ' = λα/ (α + λκx')   + λκ /  (α + λκx')\n",
    "\n",
    "α: a high initial value corresponds to a high confidence on the initial value\n",
    "λ: initial rate\n",
    "\n",
    "\n",
    "t * λ / (τ + τ')   +    κ / (τ + τ')\n",
    "\n",
    "estimatedResults[0]= t_i_prior*r_ij_prior/(t_i_prior+t_i)+n_ij/(t_i_prior+t_i);\n"
   ],
   "metadata": {
    "collapsed": false
   }
  },
  {
   "cell_type": "code",
   "execution_count": null,
   "outputs": [],
   "source": [],
   "metadata": {
    "collapsed": false
   }
  }
 ],
 "metadata": {
  "kernelspec": {
   "display_name": "Python 3",
   "language": "python",
   "name": "python3"
  },
  "language_info": {
   "codemirror_mode": {
    "name": "ipython",
    "version": 2
   },
   "file_extension": ".py",
   "mimetype": "text/x-python",
   "name": "python",
   "nbconvert_exporter": "python",
   "pygments_lexer": "ipython2",
   "version": "2.7.6"
  }
 },
 "nbformat": 4,
 "nbformat_minor": 0
}
